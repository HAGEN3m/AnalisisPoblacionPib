{
 "cells": [
  {
   "cell_type": "markdown",
   "id": "f7a9a798",
   "metadata": {},
   "source": [
    "#### 1. Importación de librerías y dataset"
   ]
  },
  {
   "cell_type": "code",
   "execution_count": null,
   "id": "6a1271b5",
   "metadata": {},
   "outputs": [],
   "source": [
    "import pandas as pd\n",
    "import numpy as np\n",
    "import seaborn as sns\n",
    "import matplotlib.pyplot as plt\n",
    "\n",
    "df_original = pd.read_csv(\"../data/Global Economy Indicators.csv\")"
   ]
  },
  {
   "cell_type": "code",
   "execution_count": null,
   "id": "9ccf70a4",
   "metadata": {},
   "outputs": [],
   "source": [
    "#Eliminamos los espacios de las columnas y guardamos los cambios\n",
    "\n",
    "df.columns = df.columns.str.strip()\n",
    "df.to_csv(\"../data/Global Economy Indicators.csv\", index=False)"
   ]
  },
  {
   "cell_type": "code",
   "execution_count": 32,
   "id": "c340db32",
   "metadata": {},
   "outputs": [
    {
     "data": {
      "text/html": [
       "<div>\n",
       "<style scoped>\n",
       "    .dataframe tbody tr th:only-of-type {\n",
       "        vertical-align: middle;\n",
       "    }\n",
       "\n",
       "    .dataframe tbody tr th {\n",
       "        vertical-align: top;\n",
       "    }\n",
       "\n",
       "    .dataframe thead th {\n",
       "        text-align: right;\n",
       "    }\n",
       "</style>\n",
       "<table border=\"1\" class=\"dataframe\">\n",
       "  <thead>\n",
       "    <tr style=\"text-align: right;\">\n",
       "      <th></th>\n",
       "      <th>Country</th>\n",
       "      <th>Population</th>\n",
       "      <th>Year</th>\n",
       "      <th>Gross Domestic Product (GDP)</th>\n",
       "      <th>Gross National Income(GNI) in USD</th>\n",
       "    </tr>\n",
       "  </thead>\n",
       "  <tbody>\n",
       "    <tr>\n",
       "      <th>0</th>\n",
       "      <td>Afghanistan</td>\n",
       "      <td>10752971</td>\n",
       "      <td>1970</td>\n",
       "      <td>1.731436e+09</td>\n",
       "      <td>1.766528e+09</td>\n",
       "    </tr>\n",
       "    <tr>\n",
       "      <th>1</th>\n",
       "      <td>Afghanistan</td>\n",
       "      <td>11015857</td>\n",
       "      <td>1971</td>\n",
       "      <td>1.812838e+09</td>\n",
       "      <td>1.850122e+09</td>\n",
       "    </tr>\n",
       "    <tr>\n",
       "      <th>2</th>\n",
       "      <td>Afghanistan</td>\n",
       "      <td>11286753</td>\n",
       "      <td>1972</td>\n",
       "      <td>1.647900e+09</td>\n",
       "      <td>1.683948e+09</td>\n",
       "    </tr>\n",
       "    <tr>\n",
       "      <th>3</th>\n",
       "      <td>Afghanistan</td>\n",
       "      <td>11575305</td>\n",
       "      <td>1973</td>\n",
       "      <td>1.702716e+09</td>\n",
       "      <td>1.739998e+09</td>\n",
       "    </tr>\n",
       "    <tr>\n",
       "      <th>4</th>\n",
       "      <td>Afghanistan</td>\n",
       "      <td>11869879</td>\n",
       "      <td>1974</td>\n",
       "      <td>2.061729e+09</td>\n",
       "      <td>2.106420e+09</td>\n",
       "    </tr>\n",
       "    <tr>\n",
       "      <th>...</th>\n",
       "      <td>...</td>\n",
       "      <td>...</td>\n",
       "      <td>...</td>\n",
       "      <td>...</td>\n",
       "      <td>...</td>\n",
       "    </tr>\n",
       "    <tr>\n",
       "      <th>10507</th>\n",
       "      <td>Zambia</td>\n",
       "      <td>17298054</td>\n",
       "      <td>2017</td>\n",
       "      <td>2.586816e+10</td>\n",
       "      <td>2.505604e+10</td>\n",
       "    </tr>\n",
       "    <tr>\n",
       "      <th>10508</th>\n",
       "      <td>Zambia</td>\n",
       "      <td>17835893</td>\n",
       "      <td>2018</td>\n",
       "      <td>2.631198e+10</td>\n",
       "      <td>2.588455e+10</td>\n",
       "    </tr>\n",
       "    <tr>\n",
       "      <th>10509</th>\n",
       "      <td>Zambia</td>\n",
       "      <td>18380477</td>\n",
       "      <td>2019</td>\n",
       "      <td>2.331036e+10</td>\n",
       "      <td>2.291011e+10</td>\n",
       "    </tr>\n",
       "    <tr>\n",
       "      <th>10510</th>\n",
       "      <td>Zambia</td>\n",
       "      <td>18927715</td>\n",
       "      <td>2020</td>\n",
       "      <td>1.811064e+10</td>\n",
       "      <td>1.756233e+10</td>\n",
       "    </tr>\n",
       "    <tr>\n",
       "      <th>10511</th>\n",
       "      <td>Zambia</td>\n",
       "      <td>19473125</td>\n",
       "      <td>2021</td>\n",
       "      <td>2.131337e+10</td>\n",
       "      <td>2.067962e+10</td>\n",
       "    </tr>\n",
       "  </tbody>\n",
       "</table>\n",
       "<p>10512 rows × 5 columns</p>\n",
       "</div>"
      ],
      "text/plain": [
       "             Country  Population  Year  Gross Domestic Product (GDP)  \\\n",
       "0       Afghanistan     10752971  1970                  1.731436e+09   \n",
       "1       Afghanistan     11015857  1971                  1.812838e+09   \n",
       "2       Afghanistan     11286753  1972                  1.647900e+09   \n",
       "3       Afghanistan     11575305  1973                  1.702716e+09   \n",
       "4       Afghanistan     11869879  1974                  2.061729e+09   \n",
       "...              ...         ...   ...                           ...   \n",
       "10507        Zambia     17298054  2017                  2.586816e+10   \n",
       "10508        Zambia     17835893  2018                  2.631198e+10   \n",
       "10509        Zambia     18380477  2019                  2.331036e+10   \n",
       "10510        Zambia     18927715  2020                  1.811064e+10   \n",
       "10511        Zambia     19473125  2021                  2.131337e+10   \n",
       "\n",
       "       Gross National Income(GNI) in USD  \n",
       "0                           1.766528e+09  \n",
       "1                           1.850122e+09  \n",
       "2                           1.683948e+09  \n",
       "3                           1.739998e+09  \n",
       "4                           2.106420e+09  \n",
       "...                                  ...  \n",
       "10507                       2.505604e+10  \n",
       "10508                       2.588455e+10  \n",
       "10509                       2.291011e+10  \n",
       "10510                       1.756233e+10  \n",
       "10511                       2.067962e+10  \n",
       "\n",
       "[10512 rows x 5 columns]"
      ]
     },
     "execution_count": 32,
     "metadata": {},
     "output_type": "execute_result"
    }
   ],
   "source": [
    "#Creamos una copia con solo las columnas de nuestro interés\n",
    "df = df_original[[\"Country\", \"Population\", \"Year\", \"Gross Domestic Product (GDP)\", \"Gross National Income(GNI) in USD\"]].copy()\n",
    "\n",
    "df"
   ]
  },
  {
   "cell_type": "markdown",
   "id": "ffd45559",
   "metadata": {},
   "source": [
    "#### 2. Revisión general de valores nulos"
   ]
  },
  {
   "cell_type": "code",
   "execution_count": 33,
   "id": "ab0c1b8e",
   "metadata": {},
   "outputs": [
    {
     "data": {
      "text/plain": [
       "Country                              0\n",
       "Population                           0\n",
       "Year                                 0\n",
       "Gross Domestic Product (GDP)         0\n",
       "Gross National Income(GNI) in USD    0\n",
       "dtype: int64"
      ]
     },
     "execution_count": 33,
     "metadata": {},
     "output_type": "execute_result"
    }
   ],
   "source": [
    "df.isnull().sum().sort_values(ascending=False)"
   ]
  },
  {
   "cell_type": "markdown",
   "id": "a0e1d82e",
   "metadata": {},
   "source": [
    "#### 3. Estandarizar los nombres de las columnas para evitar errores"
   ]
  },
  {
   "cell_type": "code",
   "execution_count": 34,
   "id": "1760cc8b",
   "metadata": {},
   "outputs": [
    {
     "data": {
      "text/plain": [
       "Index(['country', 'population', 'year', 'gross_domestic_product_(gdp)',\n",
       "       'gross_national_income(gni)_in_usd'],\n",
       "      dtype='object')"
      ]
     },
     "execution_count": 34,
     "metadata": {},
     "output_type": "execute_result"
    }
   ],
   "source": [
    "df.columns = df.columns.str.strip().str.lower().str.replace(\" \", \"_\")\n",
    "\n",
    "df.columns"
   ]
  },
  {
   "cell_type": "markdown",
   "id": "1a81419b",
   "metadata": {},
   "source": [
    "#### 5. Revisión de tipos de datos"
   ]
  },
  {
   "cell_type": "code",
   "execution_count": 35,
   "id": "69a39a19",
   "metadata": {},
   "outputs": [
    {
     "data": {
      "text/plain": [
       "country                               object\n",
       "population                             int64\n",
       "year                                   int64\n",
       "gross_domestic_product_(gdp)         float64\n",
       "gross_national_income(gni)_in_usd    float64\n",
       "dtype: object"
      ]
     },
     "execution_count": 35,
     "metadata": {},
     "output_type": "execute_result"
    }
   ],
   "source": [
    "df.dtypes"
   ]
  },
  {
   "cell_type": "markdown",
   "id": "9c4f4949",
   "metadata": {},
   "source": [
    "#### 6. Detección de duplicados"
   ]
  },
  {
   "cell_type": "code",
   "execution_count": 36,
   "id": "0637d2e6",
   "metadata": {},
   "outputs": [
    {
     "data": {
      "text/plain": [
       "<bound method Series.sum of 0        False\n",
       "1        False\n",
       "2        False\n",
       "3        False\n",
       "4        False\n",
       "         ...  \n",
       "10507    False\n",
       "10508    False\n",
       "10509    False\n",
       "10510    False\n",
       "10511    False\n",
       "Length: 10512, dtype: bool>"
      ]
     },
     "execution_count": 36,
     "metadata": {},
     "output_type": "execute_result"
    }
   ],
   "source": [
    "df.duplicated().sum"
   ]
  },
  {
   "cell_type": "markdown",
   "id": "aa9c50fa",
   "metadata": {},
   "source": [
    "#### 7. Tratamiento de outliers"
   ]
  },
  {
   "cell_type": "code",
   "execution_count": 37,
   "id": "2d663b59",
   "metadata": {},
   "outputs": [
    {
     "data": {
      "image/png": "[encoded data removed]",
      "text/plain": [
       "<Figure size 600x500 with 1 Axes>"
      ]
     },
     "metadata": {},
     "output_type": "display_data"
    }
   ],
   "source": [
    "plt.figure(figsize=(6, 5))\n",
    "sns.boxplot(x=np.log10(df[\"gross_domestic_product_(gdp)\"]))\n",
    "plt.title(\"Boxplot log10 del PIB\")\n",
    "plt.xlabel(\"log10(PIB)\")\n",
    "plt.show()"
   ]
  },
  {
   "cell_type": "markdown",
   "id": "91af2f94",
   "metadata": {},
   "source": [
    "#### 8. Exportación de dataset limpio"
   ]
  },
  {
   "cell_type": "code",
   "execution_count": 38,
   "id": "feda7ad8",
   "metadata": {},
   "outputs": [],
   "source": [
    "df.to_csv(\"/home/tomas/analisisPoblacionPib/data/datos_limpios.csv\", index=False)"
   ]
  }
 ],
 "metadata": {
  "kernelspec": {
   "display_name": "venv",
   "language": "python",
   "name": "python3"
  },
  "language_info": {
   "codemirror_mode": {
    "name": "ipython",
    "version": 3
   },
   "file_extension": ".py",
   "mimetype": "text/x-python",
   "name": "python",
   "nbconvert_exporter": "python",
   "pygments_lexer": "ipython3",
   "version": "3.12.3"
  }
 },
 "nbformat": 4,
 "nbformat_minor": 5
}
